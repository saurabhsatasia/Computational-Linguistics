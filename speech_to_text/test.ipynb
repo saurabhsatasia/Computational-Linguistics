{
 "cells": [
  {
   "cell_type": "code",
   "execution_count": 1,
   "metadata": {},
   "outputs": [
    {
     "name": "stderr",
     "output_type": "stream",
     "text": [
      "C:\\Users\\Saurabh\\anaconda3\\envs\\C_L\\lib\\site-packages\\pydub\\utils.py:170: RuntimeWarning: Couldn't find ffmpeg or avconv - defaulting to ffmpeg, but may not work\n",
      "  warn(\"Couldn't find ffmpeg or avconv - defaulting to ffmpeg, but may not work\", RuntimeWarning)\n"
     ]
    }
   ],
   "source": [
    "import speech_recognition as sr # offline Google API\n",
    "import os\n",
    "from pydub import AudioSegment\n",
    "from pydub.silence import split_on_silence"
   ]
  },
  {
   "cell_type": "code",
   "execution_count": 5,
   "metadata": {},
   "outputs": [],
   "source": [
    "sound = AudioSegment.from_wav(file=\"D:/Strive/Computational-Linguistics/eng.wav\")"
   ]
  },
  {
   "cell_type": "code",
   "execution_count": 8,
   "metadata": {},
   "outputs": [],
   "source": [
    "chunks = split_on_silence(audio_segment=sound, min_silence_len=500,\n",
    "                  silence_thresh=sound.dBFS-14, keep_silence=500,)"
   ]
  },
  {
   "cell_type": "code",
   "execution_count": 9,
   "metadata": {},
   "outputs": [
    {
     "data": {
      "text/plain": [
       "[<pydub.audio_segment.AudioSegment at 0x1f74ee8a3c8>,\n",
       " <pydub.audio_segment.AudioSegment at 0x1f74ee8a4a8>,\n",
       " <pydub.audio_segment.AudioSegment at 0x1f74ee8a390>,\n",
       " <pydub.audio_segment.AudioSegment at 0x1f74ee8a400>,\n",
       " <pydub.audio_segment.AudioSegment at 0x1f74ee8a4e0>,\n",
       " <pydub.audio_segment.AudioSegment at 0x1f74ee8a518>,\n",
       " <pydub.audio_segment.AudioSegment at 0x1f74ee8a550>,\n",
       " <pydub.audio_segment.AudioSegment at 0x1f74ee8a588>,\n",
       " <pydub.audio_segment.AudioSegment at 0x1f74ee8a5c0>,\n",
       " <pydub.audio_segment.AudioSegment at 0x1f74ee8a5f8>,\n",
       " <pydub.audio_segment.AudioSegment at 0x1f74ee8a630>,\n",
       " <pydub.audio_segment.AudioSegment at 0x1f74ee8a668>,\n",
       " <pydub.audio_segment.AudioSegment at 0x1f74ee8a6a0>,\n",
       " <pydub.audio_segment.AudioSegment at 0x1f74ee8a6d8>,\n",
       " <pydub.audio_segment.AudioSegment at 0x1f74ee8a710>,\n",
       " <pydub.audio_segment.AudioSegment at 0x1f74ee8a748>,\n",
       " <pydub.audio_segment.AudioSegment at 0x1f74ee8a780>,\n",
       " <pydub.audio_segment.AudioSegment at 0x1f74ee8a7b8>,\n",
       " <pydub.audio_segment.AudioSegment at 0x1f74ee8a7f0>,\n",
       " <pydub.audio_segment.AudioSegment at 0x1f74ee8a828>,\n",
       " <pydub.audio_segment.AudioSegment at 0x1f74ee8a860>,\n",
       " <pydub.audio_segment.AudioSegment at 0x1f74ee8a898>,\n",
       " <pydub.audio_segment.AudioSegment at 0x1f74ee8a8d0>,\n",
       " <pydub.audio_segment.AudioSegment at 0x1f74ee8a908>]"
      ]
     },
     "execution_count": 9,
     "metadata": {},
     "output_type": "execute_result"
    }
   ],
   "source": [
    "chunks"
   ]
  },
  {
   "cell_type": "code",
   "execution_count": 10,
   "metadata": {},
   "outputs": [],
   "source": [
    "if not os.path.isdir(\"D:/Strive/Computational-Linguistics/InputFiles\"):\n",
    "    os.mkdir(\"D:/Strive/Computational-Linguistics/InputFiles\")\n",
    "whole_text = \"\"\n",
    "textMap={}"
   ]
  },
  {
   "cell_type": "code",
   "execution_count": 12,
   "metadata": {},
   "outputs": [],
   "source": [
    "recognizer = sr.Recognizer()"
   ]
  },
  {
   "cell_type": "code",
   "execution_count": 13,
   "metadata": {},
   "outputs": [
    {
     "name": "stdout",
     "output_type": "stream",
     "text": [
      "D:/Strive/Computational-Linguistics/InputFiles\\speech_chunk1.wav : I come from england. \n",
      "D:/Strive/Computational-Linguistics/InputFiles\\speech_chunk2.wav : You come from england. \n",
      "D:/Strive/Computational-Linguistics/InputFiles\\speech_chunk3.wav : Do you like manchester united. \n",
      "D:/Strive/Computational-Linguistics/InputFiles\\speech_chunk4.wav : I don't like football. \n",
      "D:/Strive/Computational-Linguistics/InputFiles\\speech_chunk5.wav : You don't like football. \n",
      "Error: \n",
      "D:/Strive/Computational-Linguistics/InputFiles\\speech_chunk7.wav : I see. \n",
      "D:/Strive/Computational-Linguistics/InputFiles\\speech_chunk8.wav : Why did you come here. \n",
      "D:/Strive/Computational-Linguistics/InputFiles\\speech_chunk9.wav : I came for vacation. \n",
      "D:/Strive/Computational-Linguistics/InputFiles\\speech_chunk10.wav : You came for a vacation are you having fun. \n",
      "D:/Strive/Computational-Linguistics/InputFiles\\speech_chunk11.wav : Yes i'm having a great time. \n",
      "D:/Strive/Computational-Linguistics/InputFiles\\speech_chunk12.wav : What do you like the best about here. \n",
      "D:/Strive/Computational-Linguistics/InputFiles\\speech_chunk13.wav : What do i like the bed. \n",
      "D:/Strive/Computational-Linguistics/InputFiles\\speech_chunk14.wav : Well the people are very kind. \n",
      "D:/Strive/Computational-Linguistics/InputFiles\\speech_chunk15.wav : Yes. \n",
      "D:/Strive/Computational-Linguistics/InputFiles\\speech_chunk16.wav : The people here are kind. \n",
      "D:/Strive/Computational-Linguistics/InputFiles\\speech_chunk17.wav : Do you like the food. \n",
      "D:/Strive/Computational-Linguistics/InputFiles\\speech_chunk18.wav : Yeah the food is great. \n",
      "D:/Strive/Computational-Linguistics/InputFiles\\speech_chunk19.wav : Is the food too spicy for you. \n",
      "D:/Strive/Computational-Linguistics/InputFiles\\speech_chunk20.wav : Now i love by fifi. \n",
      "D:/Strive/Computational-Linguistics/InputFiles\\speech_chunk21.wav : How to eat spicy food everyday. \n",
      "D:/Strive/Computational-Linguistics/InputFiles\\speech_chunk22.wav : How much longer will you stay here. \n",
      "D:/Strive/Computational-Linguistics/InputFiles\\speech_chunk23.wav : I will stay 2 more days. \n",
      "D:/Strive/Computational-Linguistics/InputFiles\\speech_chunk24.wav : Venue. \n"
     ]
    }
   ],
   "source": [
    "folderPath = \"D:/Strive/Computational-Linguistics/InputFiles\"\n",
    "for i, audio_chunk in enumerate(chunks, start=1):\n",
    "    chunk_filename = os.path.join(folderPath, f\"speech_chunk{i}.wav\")\n",
    "    audio_chunk.export(chunk_filename, format=\"wav\")\n",
    "    \n",
    "    with sr.AudioFile(chunk_filename) as source:\n",
    "        audio_listened = recognizer.record(source)\n",
    "        try:\n",
    "            text = recognizer.recognize_google(audio_listened)\n",
    "        except sr.UnknownValueError as e:\n",
    "            print(\"Error:\", str(e))\n",
    "        else:\n",
    "            text = f\"{text.capitalize()}. \"\n",
    "            print(chunk_filename, \":\", text)\n",
    "            whole_text += text\n",
    "            textMap[chunk_filename] = text"
   ]
  },
  {
   "cell_type": "code",
   "execution_count": null,
   "metadata": {},
   "outputs": [],
   "source": []
  }
 ],
 "metadata": {
  "kernelspec": {
   "display_name": "Python 3",
   "language": "python",
   "name": "python3"
  },
  "language_info": {
   "codemirror_mode": {
    "name": "ipython",
    "version": 3
   },
   "file_extension": ".py",
   "mimetype": "text/x-python",
   "name": "python",
   "nbconvert_exporter": "python",
   "pygments_lexer": "ipython3",
   "version": "3.6.12"
  }
 },
 "nbformat": 4,
 "nbformat_minor": 4
}
