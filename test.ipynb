{
 "cells": [
  {
   "cell_type": "code",
   "execution_count": 1,
   "metadata": {},
   "outputs": [
    {
     "name": "stderr",
     "output_type": "stream",
     "text": [
      "C:\\Users\\Saurabh\\anaconda3\\envs\\C_L\\lib\\site-packages\\pydub\\utils.py:170: RuntimeWarning: Couldn't find ffmpeg or avconv - defaulting to ffmpeg, but may not work\n",
      "  warn(\"Couldn't find ffmpeg or avconv - defaulting to ffmpeg, but may not work\", RuntimeWarning)\n"
     ]
    }
   ],
   "source": [
    "import speech_recognition as sr # offline Google API\n",
    "import os\n",
    "from pydub import AudioSegment\n",
    "from pydub.silence import split_on_silence"
   ]
  },
  {
   "cell_type": "code",
   "execution_count": 2,
   "metadata": {},
   "outputs": [],
   "source": [
    "sound = AudioSegment.from_wav(file=\"D:/Strive/Computational-Linguistics/eng.wav\")"
   ]
  },
  {
   "cell_type": "code",
   "execution_count": 3,
   "metadata": {},
   "outputs": [],
   "source": [
    "chunks = split_on_silence(audio_segment=sound, min_silence_len=500,\n",
    "                  silence_thresh=sound.dBFS-14, keep_silence=500,)"
   ]
  },
  {
   "cell_type": "code",
   "execution_count": 4,
   "metadata": {},
   "outputs": [
    {
     "data": {
      "text/plain": [
       "[<pydub.audio_segment.AudioSegment at 0x16f27db4ba8>,\n",
       " <pydub.audio_segment.AudioSegment at 0x16f27db4b70>,\n",
       " <pydub.audio_segment.AudioSegment at 0x16f27db43c8>,\n",
       " <pydub.audio_segment.AudioSegment at 0x16f27db4f60>,\n",
       " <pydub.audio_segment.AudioSegment at 0x16f27db4c88>,\n",
       " <pydub.audio_segment.AudioSegment at 0x16f27db4f98>,\n",
       " <pydub.audio_segment.AudioSegment at 0x16f27db4fd0>,\n",
       " <pydub.audio_segment.AudioSegment at 0x16f27dcb048>,\n",
       " <pydub.audio_segment.AudioSegment at 0x16f27dcb080>,\n",
       " <pydub.audio_segment.AudioSegment at 0x16f27dcb0b8>,\n",
       " <pydub.audio_segment.AudioSegment at 0x16f27dcb0f0>,\n",
       " <pydub.audio_segment.AudioSegment at 0x16f27dcb128>,\n",
       " <pydub.audio_segment.AudioSegment at 0x16f27dcb160>,\n",
       " <pydub.audio_segment.AudioSegment at 0x16f27dcb198>,\n",
       " <pydub.audio_segment.AudioSegment at 0x16f27dcb1d0>,\n",
       " <pydub.audio_segment.AudioSegment at 0x16f27dcb208>,\n",
       " <pydub.audio_segment.AudioSegment at 0x16f27dcb240>,\n",
       " <pydub.audio_segment.AudioSegment at 0x16f27dcb278>,\n",
       " <pydub.audio_segment.AudioSegment at 0x16f27dcb2b0>,\n",
       " <pydub.audio_segment.AudioSegment at 0x16f27dcb2e8>,\n",
       " <pydub.audio_segment.AudioSegment at 0x16f27dcb320>,\n",
       " <pydub.audio_segment.AudioSegment at 0x16f27dcb358>,\n",
       " <pydub.audio_segment.AudioSegment at 0x16f27dcb390>,\n",
       " <pydub.audio_segment.AudioSegment at 0x16f27dcb3c8>]"
      ]
     },
     "execution_count": 4,
     "metadata": {},
     "output_type": "execute_result"
    }
   ],
   "source": [
    "chunks"
   ]
  },
  {
   "cell_type": "code",
   "execution_count": 5,
   "metadata": {},
   "outputs": [],
   "source": [
    "if not os.path.isdir(\"D:/Strive/Computational-Linguistics/InputFiles\"):\n",
    "    os.mkdir(\"D:/Strive/Computational-Linguistics/InputFiles\")\n",
    "whole_text = \"\"\n",
    "textMap={}"
   ]
  },
  {
   "cell_type": "code",
   "execution_count": 6,
   "metadata": {},
   "outputs": [],
   "source": [
    "recognizer = sr.Recognizer()"
   ]
  },
  {
   "cell_type": "code",
   "execution_count": 7,
   "metadata": {},
   "outputs": [
    {
     "name": "stdout",
     "output_type": "stream",
     "text": [
      "D:/Strive/Computational-Linguistics/InputFiles\\speech_chunk1.wav : I come from england. \n",
      "D:/Strive/Computational-Linguistics/InputFiles\\speech_chunk2.wav : You come from england. \n",
      "D:/Strive/Computational-Linguistics/InputFiles\\speech_chunk3.wav : Do you like manchester united. \n",
      "D:/Strive/Computational-Linguistics/InputFiles\\speech_chunk4.wav : I don't like football. \n",
      "D:/Strive/Computational-Linguistics/InputFiles\\speech_chunk5.wav : You don't like football. \n",
      "Error: \n",
      "D:/Strive/Computational-Linguistics/InputFiles\\speech_chunk7.wav : I see. \n",
      "D:/Strive/Computational-Linguistics/InputFiles\\speech_chunk8.wav : Why did you come here. \n",
      "D:/Strive/Computational-Linguistics/InputFiles\\speech_chunk9.wav : I came for vacation. \n",
      "D:/Strive/Computational-Linguistics/InputFiles\\speech_chunk10.wav : You came for a vacation are you having fun. \n",
      "D:/Strive/Computational-Linguistics/InputFiles\\speech_chunk11.wav : Yes i'm having a great time. \n",
      "D:/Strive/Computational-Linguistics/InputFiles\\speech_chunk12.wav : What do you like the best about here. \n",
      "D:/Strive/Computational-Linguistics/InputFiles\\speech_chunk13.wav : What do i like the bed. \n",
      "D:/Strive/Computational-Linguistics/InputFiles\\speech_chunk14.wav : Well the people are very kind. \n",
      "D:/Strive/Computational-Linguistics/InputFiles\\speech_chunk15.wav : Yes. \n",
      "D:/Strive/Computational-Linguistics/InputFiles\\speech_chunk16.wav : The people here are kind. \n",
      "D:/Strive/Computational-Linguistics/InputFiles\\speech_chunk17.wav : Do you like the food. \n",
      "D:/Strive/Computational-Linguistics/InputFiles\\speech_chunk18.wav : Yeah the food is great. \n",
      "D:/Strive/Computational-Linguistics/InputFiles\\speech_chunk19.wav : Is the food too spicy for you. \n",
      "D:/Strive/Computational-Linguistics/InputFiles\\speech_chunk20.wav : Now i love by fifi. \n",
      "D:/Strive/Computational-Linguistics/InputFiles\\speech_chunk21.wav : How to eat spicy food everyday. \n",
      "D:/Strive/Computational-Linguistics/InputFiles\\speech_chunk22.wav : How much longer will you stay here. \n",
      "D:/Strive/Computational-Linguistics/InputFiles\\speech_chunk23.wav : I will stay 2 more days. \n",
      "D:/Strive/Computational-Linguistics/InputFiles\\speech_chunk24.wav : Venue. \n"
     ]
    }
   ],
   "source": [
    "folderPath = \"D:/Strive/Computational-Linguistics/InputFiles\"\n",
    "for i, audio_chunk in enumerate(chunks, start=1):\n",
    "    chunk_filename = os.path.join(folderPath, f\"speech_chunk{i}.wav\")\n",
    "    audio_chunk.export(chunk_filename, format=\"wav\")\n",
    "    \n",
    "    with sr.AudioFile(chunk_filename) as source:\n",
    "        audio_listened = recognizer.record(source)\n",
    "        try:\n",
    "            text = recognizer.recognize_google(audio_listened)\n",
    "        except sr.UnknownValueError as e:\n",
    "            print(\"Error:\", str(e))\n",
    "        else:\n",
    "            text = f\"{text.capitalize()}. \"\n",
    "            print(chunk_filename, \":\", text)\n",
    "            whole_text += text\n",
    "            textMap[chunk_filename] = text"
   ]
  },
  {
   "cell_type": "markdown",
   "metadata": {},
   "source": [
    "## Spell Corrector"
   ]
  },
  {
   "cell_type": "code",
   "execution_count": 8,
   "metadata": {},
   "outputs": [],
   "source": [
    "import pkg_resources\n",
    "from symspellpy import SymSpell, Verbosity\n",
    "\n",
    "# An average of 5 letter word has about 3M possible errors within a maximum edit distance of 3\n",
    "sym_spell = SymSpell(max_dictionary_edit_distance=2, prefix_length=7)\n",
    "dictionary_path = pkg_resources.resource_filename(\"symspellpy\", \"frequency_dictionary_en_82_765.txt\")\n",
    "bigram_path = pkg_resources.resource_filename(\"symspellpy\", \"frequency_bigramdictionary_en_243_342.txt\")"
   ]
  },
  {
   "cell_type": "code",
   "execution_count": 19,
   "metadata": {},
   "outputs": [
    {
     "name": "stdout",
     "output_type": "stream",
     "text": [
      "the young boy final understood the difference between parallel and perpendicular\n"
     ]
    }
   ],
   "source": [
    "input_term_1 = ('The yougn boy finaly understod the diffrence betwen paralell and perpendcular.')\n",
    "input_term_2 = (\"whereis th elove hehad dated forImuch of thepast who couqdn'tread in sixtgrade and ins pired him\")\n",
    "\n",
    "# term_index is th columns of the term and count_index is the column of the term frequency\n",
    "sym_spell.load_dictionary(dictionary_path, term_index=0, count_index=1)\n",
    "sym_spell.load_bigram_dictionary(dictionary_path, term_index=0,count_index=2)\n",
    "\n",
    "# max_edit distance per lookup (per single word, not per whole input string)\n",
    "suggestions = sym_spell.lookup_compound(phrase=input_term_1, max_edit_distance=2)\n",
    "# print(suggestions)\n",
    "\n",
    "# display suggestion term, edit distance, and term frequency\n",
    "sent = []\n",
    "for suggestion in suggestions:\n",
    "    sent.append(suggestion)\n",
    "\n",
    "predicted_sentence = str(sent[0].term)\n",
    "splitter = predicted_sentence\n",
    "\n",
    "print(splitter)"
   ]
  }
 ],
 "metadata": {
  "kernelspec": {
   "display_name": "Python 3",
   "language": "python",
   "name": "python3"
  },
  "language_info": {
   "codemirror_mode": {
    "name": "ipython",
    "version": 3
   },
   "file_extension": ".py",
   "mimetype": "text/x-python",
   "name": "python",
   "nbconvert_exporter": "python",
   "pygments_lexer": "ipython3",
   "version": "3.6.12"
  }
 },
 "nbformat": 4,
 "nbformat_minor": 4
}
